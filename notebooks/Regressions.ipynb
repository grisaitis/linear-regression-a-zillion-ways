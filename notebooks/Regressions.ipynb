{
 "cells": [
  {
   "cell_type": "markdown",
   "metadata": {},
   "source": [
    "# linear regression\n",
    "\n",
    "### types of modeling\n",
    "- regression\n",
    "- classification\n",
    "- others: rank, ordinal / level\n",
    "\n",
    "### record trials\n",
    "- name\n",
    "- data used\n",
    "- coefficient estimates (MLE, MAP, median posterior)\n",
    "- objective function, and value\n",
    "- time to execute\n",
    "- framework name\n",
    "\n",
    "### data\n",
    "- fake data (given (N, p))\n",
    "- titanic?\n",
    "\n",
    "### point estimation\n",
    "\n",
    "#### optimize an objective function\n",
    "- analytically\n",
    "  - OLS for linear regression\n",
    "- gradient descent\n",
    "  - first order gradient\n",
    "  - second order gradient (with exact hessian)\n",
    "  - second order gradient (with approx hessian)\n",
    "  - proximal coordinate descent (ascent?)\n",
    "\n",
    "#### approximate likelihood or posterior\n",
    "- monte carlo\n",
    "  - basic\n",
    "  - importance sampling\n",
    "  - rejection sampling\n",
    "  - (adaptive something?)\n",
    "- markov chain monte carlo\n",
    "  - metropolis-hastings\n",
    "  - gibbs\n",
    "  - hamiltonian\n",
    "    - no u-turn\n",
    "\n",
    "#### variational\n",
    "- ???\n",
    "\n",
    "### objective functions\n",
    "- (regression) squared error\n",
    "- (regression) negative log likelihood\n",
    "- (regression) absolute error\n",
    "- (classification) cross entropy\n",
    "- (ranking / ordinal) ???\n",
    "\n",
    "### models\n",
    "- linear regression\n",
    "- linear regression with L2 penalty (ridge)\n",
    "- linear regression with L1 penalty (lasso)\n",
    "- linear regression with L1 and L2 penalty (elastic net)\n",
    "- logistic regression\n",
    "- generalized linear model\n",
    "\n",
    "### frameworks\n",
    "- sklearn\n",
    "- statsmodels\n",
    "- pure python\n",
    "- numpy + scipy\n",
    "- jax\n",
    "- numba?\n",
    "- tensorflow\n",
    "- pytorch\n",
    "- pystan\n",
    "- pymc3\n",
    "- (R) rstanarm\n",
    "\n",
    "### platforms\n",
    "- cpu\n",
    "- gpu\n",
    "\n",
    "### math\n",
    "- hessian is not always positive definite... when is it not for negative log likelihood?\n",
    "\n",
    "### visualization\n",
    "- for optimization:\n",
    "  - the objective function surface in coefficient space\n",
    "  - point evaluations by iteration\n",
    "- for monte carlo:\n",
    "  - the posterior as it samples\n",
    "  - mode, median, mean points of posterior"
   ]
  },
  {
   "cell_type": "code",
   "execution_count": 1,
   "metadata": {
    "ExecuteTime": {
     "end_time": "2020-01-22T06:45:20.439995Z",
     "start_time": "2020-01-22T06:45:20.434474Z"
    }
   },
   "outputs": [],
   "source": [
    "import sys\n",
    "sys.path.append(\"..\")"
   ]
  },
  {
   "cell_type": "code",
   "execution_count": 2,
   "metadata": {
    "ExecuteTime": {
     "end_time": "2020-01-22T06:45:20.839875Z",
     "start_time": "2020-01-22T06:45:20.448411Z"
    }
   },
   "outputs": [],
   "source": [
    "import numpy as np\n",
    "import pandas as pd\n",
    "\n",
    "\n",
    "from linear_models.fake_data import FakeData\n",
    "from linear_models.estimators import OLSAnalyticalEstimator"
   ]
  },
  {
   "cell_type": "code",
   "execution_count": 3,
   "metadata": {
    "ExecuteTime": {
     "end_time": "2020-01-22T06:45:20.850415Z",
     "start_time": "2020-01-22T06:45:20.844131Z"
    }
   },
   "outputs": [],
   "source": [
    "random_state = np.random.RandomState(0)\n",
    "data = FakeData(n=10000, p=3, σ=10.0, rs=random_state)"
   ]
  },
  {
   "cell_type": "code",
   "execution_count": 4,
   "metadata": {
    "ExecuteTime": {
     "end_time": "2020-01-22T06:45:20.864485Z",
     "start_time": "2020-01-22T06:45:20.855139Z"
    }
   },
   "outputs": [
    {
     "name": "stdout",
     "output_type": "stream",
     "text": [
      "β     [ 5.16250832  0.06637023 -6.45966674]\n",
      "β hat OLS analytical [ 5.1543047   0.07288935 -6.45887   ]\n"
     ]
    }
   ],
   "source": [
    "ols_analytical_estimator = OLSAnalyticalEstimator()\n",
    "beta_hat = ols_analytical_estimator.fit(data.x, data.y)\n",
    "\n",
    "print(\"β    \", data.β)\n",
    "print(\"β hat OLS analytical\", beta_hat)"
   ]
  },
  {
   "cell_type": "code",
   "execution_count": 5,
   "metadata": {
    "ExecuteTime": {
     "end_time": "2020-01-22T06:45:20.901742Z",
     "start_time": "2020-01-22T06:45:20.867843Z"
    }
   },
   "outputs": [
    {
     "ename": "SyntaxError",
     "evalue": "invalid syntax (<ipython-input-5-9c23a4969a2f>, line 13)",
     "output_type": "error",
     "traceback": [
      "\u001b[0;36m  File \u001b[0;32m\"<ipython-input-5-9c23a4969a2f>\"\u001b[0;36m, line \u001b[0;32m13\u001b[0m\n\u001b[0;31m    while loss\u001b[0m\n\u001b[0m               ^\u001b[0m\n\u001b[0;31mSyntaxError\u001b[0m\u001b[0;31m:\u001b[0m invalid syntax\n"
     ]
    }
   ],
   "source": []
  }
 ],
 "metadata": {
  "kernelspec": {
   "display_name": "Python 3",
   "language": "python",
   "name": "python3"
  },
  "language_info": {
   "codemirror_mode": {
    "name": "ipython",
    "version": 3
   },
   "file_extension": ".py",
   "mimetype": "text/x-python",
   "name": "python",
   "nbconvert_exporter": "python",
   "pygments_lexer": "ipython3",
   "version": "3.7.6"
  },
  "toc": {
   "base_numbering": 1,
   "nav_menu": {},
   "number_sections": true,
   "sideBar": true,
   "skip_h1_title": false,
   "title_cell": "Table of Contents",
   "title_sidebar": "Contents",
   "toc_cell": false,
   "toc_position": {},
   "toc_section_display": true,
   "toc_window_display": false
  },
  "varInspector": {
   "cols": {
    "lenName": 16,
    "lenType": 16,
    "lenVar": 40
   },
   "kernels_config": {
    "python": {
     "delete_cmd_postfix": "",
     "delete_cmd_prefix": "del ",
     "library": "var_list.py",
     "varRefreshCmd": "print(var_dic_list())"
    },
    "r": {
     "delete_cmd_postfix": ") ",
     "delete_cmd_prefix": "rm(",
     "library": "var_list.r",
     "varRefreshCmd": "cat(var_dic_list()) "
    }
   },
   "types_to_exclude": [
    "module",
    "function",
    "builtin_function_or_method",
    "instance",
    "_Feature"
   ],
   "window_display": false
  }
 },
 "nbformat": 4,
 "nbformat_minor": 4
}
